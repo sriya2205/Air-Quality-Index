{
  "cells": [
    {
      "cell_type": "code",
      "execution_count": null,
      "metadata": {
        "colab": {
          "base_uri": "https://localhost:8080/"
        },
        "id": "zKVlYdJYzyjr",
        "outputId": "c65e294e-bffa-40c4-bcc2-cbdc35239b69"
      },
      "outputs": [
        {
          "output_type": "stream",
          "name": "stdout",
          "text": [
            "\n",
            " Performance:\n",
            "R² Score: 0.9633\n",
            "MSE: 650.49\n",
            "RMSE: 25.50\n",
            "\n",
            " Performance:\n",
            "R² Score: 0.9497\n",
            "MSE: 868.26\n",
            "RMSE: 29.47\n"
          ]
        }
      ],
      "source": [
        "import pandas as pd\n",
        "import numpy as np\n",
        "from sklearn.model_selection import train_test_split\n",
        "from sklearn.ensemble import GradientBoostingRegressor\n",
        "from sklearn.preprocessing import StandardScaler\n",
        "from sklearn.metrics import r2_score, mean_squared_error\n",
        "df = pd.read_csv(\"delhi_aqi_preprocessed.csv\")\n",
        "df = df.loc[:, ~df.columns.str.contains('^Unnamed')]\n",
        "X = df.drop(columns=[\"computed_aqi\"])\n",
        "y = df[\"computed_aqi\"]\n",
        "scaler = StandardScaler()\n",
        "X_scaled = scaler.fit_transform(X)\n",
        "X_train, X_test, y_train, y_test = train_test_split(\n",
        "    X_scaled, y, test_size=0.2, random_state=42\n",
        ")\n",
        "gbr = GradientBoostingRegressor(\n",
        "    n_estimators=49,\n",
        "    learning_rate=0.2,\n",
        "    max_depth=1,\n",
        "    subsample=0.6,\n",
        "    random_state=42\n",
        ")\n",
        "gbr.fit(X_train, y_train)\n",
        "y_train_pred = gbr.predict(X_train)\n",
        "y_test_pred = gbr.predict(X_test)\n",
        "def evaluate_model(y_true, y_pred, label):\n",
        "    r2 = r2_score(y_true, y_pred)\n",
        "    mse = mean_squared_error(y_true, y_pred)\n",
        "    rmse = np.sqrt(mse)\n",
        "    print(f\"\\n Performance:\")\n",
        "    print(f\"R² Score: {r2:.4f}\")\n",
        "    print(f\"MSE: {mse:.2f}\")\n",
        "    print(f\"RMSE: {rmse:.2f}\")\n",
        "evaluate_model(y_train, y_train_pred, \"Training\")\n",
        "evaluate_model(y_test, y_test_pred, \"Testing\")\n"
      ]
    },
    {
      "cell_type": "code",
      "execution_count": null,
      "metadata": {
        "colab": {
          "base_uri": "https://localhost:8080/"
        },
        "id": "jNjs6Qhm1ykb",
        "outputId": "53cb7949-2a83-4ad0-deae-f069506e5811"
      },
      "outputs": [
        {
          "output_type": "stream",
          "name": "stdout",
          "text": [
            "\n",
            "  Performance:\n",
            "R² Score: 0.9995\n",
            "MSE: 8.24\n",
            "RMSE: 2.87\n",
            "\n",
            "  Performance:\n",
            "R² Score: 0.9978\n",
            "MSE: 45.66\n",
            "RMSE: 6.76\n"
          ]
        }
      ],
      "source": [
        "import pandas as pd\n",
        "import numpy as np\n",
        "from sklearn.model_selection import train_test_split\n",
        "from sklearn.tree import DecisionTreeRegressor\n",
        "from sklearn.preprocessing import StandardScaler\n",
        "from sklearn.metrics import r2_score, mean_squared_error\n",
        "df = pd.read_csv(\"delhi_aqi_preprocessed.csv\")\n",
        "df = df.loc[:, ~df.columns.str.contains('^Unnamed')]\n",
        "X = df.drop(columns=[\"computed_aqi\"])\n",
        "y = df[\"computed_aqi\"]\n",
        "scaler = StandardScaler()\n",
        "X_scaled = scaler.fit_transform(X)\n",
        "X_train, X_test, y_train, y_test = train_test_split(\n",
        "    X_scaled, y, test_size=0.01, random_state=20\n",
        ")\n",
        "dtr = DecisionTreeRegressor(\n",
        "    max_depth=10,\n",
        "    min_samples_split=5,\n",
        "    random_state=20\n",
        ")\n",
        "dtr.fit(X_train, y_train)\n",
        "\n",
        "y_train_pred = dtr.predict(X_train)\n",
        "y_test_pred = dtr.predict(X_test)\n",
        "\n",
        "def evaluate_model(y_true, y_pred, label):\n",
        "    r2 = r2_score(y_true, y_pred)\n",
        "    mse = mean_squared_error(y_true, y_pred)\n",
        "    rmse = np.sqrt(mse)\n",
        "    print(f\"\\n  Performance:\")\n",
        "    print(f\"R² Score: {r2:.4f}\")\n",
        "    print(f\"MSE: {mse:.2f}\")\n",
        "    print(f\"RMSE: {rmse:.2f}\")\n",
        "\n",
        "evaluate_model(y_train, y_train_pred, \"Training\")\n",
        "evaluate_model(y_test, y_test_pred, \"Testing\")\n"
      ]
    },
    {
      "cell_type": "code",
      "execution_count": null,
      "metadata": {
        "colab": {
          "base_uri": "https://localhost:8080/"
        },
        "id": "LjnEtD4L3C5e",
        "outputId": "443acb52-ba9b-4fdb-d3be-a40dfb0f3481"
      },
      "outputs": [
        {
          "output_type": "stream",
          "name": "stdout",
          "text": [
            "\n",
            " Training Performance:\n",
            "R² Score: 0.9958\n",
            "MSE: 74.78\n",
            "RMSE: 8.65\n",
            "\n",
            " Testing Performance:\n",
            "R² Score: 0.9948\n",
            "MSE: 75.82\n",
            "RMSE: 8.71\n"
          ]
        }
      ],
      "source": [
        "import pandas as pd\n",
        "import numpy as np\n",
        "from sklearn.model_selection import train_test_split\n",
        "from sklearn.ensemble import RandomForestRegressor\n",
        "from sklearn.preprocessing import StandardScaler\n",
        "from sklearn.metrics import r2_score, mean_squared_error\n",
        "df = pd.read_csv(\"delhi_aqi_preprocessed.csv\")\n",
        "df = df.loc[:, ~df.columns.str.contains('^Unnamed')]\n",
        "X = df.drop(columns=[\"computed_aqi\"])\n",
        "y = df[\"computed_aqi\"]\n",
        "scaler = StandardScaler()\n",
        "X_scaled = scaler.fit_transform(X)\n",
        "X_train, X_test, y_train, y_test = train_test_split(\n",
        "    X_scaled, y, test_size=0.04, random_state=42\n",
        ")\n",
        "rf = RandomForestRegressor(\n",
        "    n_estimators=38,\n",
        "    max_depth=23,\n",
        "    min_samples_split=10,\n",
        "    random_state=42\n",
        ")\n",
        "rf.fit(X_train, y_train)\n",
        "y_train_pred = rf.predict(X_train)\n",
        "y_test_pred = rf.predict(X_test)\n",
        "def evaluate_model(y_true, y_pred, label):\n",
        "    r2 = r2_score(y_true, y_pred)\n",
        "    mse = mean_squared_error(y_true, y_pred)\n",
        "    rmse = np.sqrt(mse)\n",
        "    print(f\"\\n {label} Performance:\")\n",
        "    print(f\"R² Score: {r2:.4f}\")\n",
        "    print(f\"MSE: {mse:.2f}\")\n",
        "    print(f\"RMSE: {rmse:.2f}\")\n",
        "evaluate_model(y_train, y_train_pred, \"Training\")\n",
        "evaluate_model(y_test, y_test_pred, \"Testing\")\n"
      ]
    },
    {
      "cell_type": "code",
      "source": [
        "import pandas as pd\n",
        "import numpy as np\n",
        "from sklearn.model_selection import train_test_split\n",
        "from sklearn.preprocessing import StandardScaler\n",
        "from sklearn.ensemble import GradientBoostingRegressor\n",
        "from sklearn.svm import SVR\n",
        "from sklearn.metrics import mean_squared_error, r2_score\n",
        "from sklearn.pipeline import make_pipeline\n",
        "df = pd.read_csv(\"delhi_aqi_preprocessed.csv\")\n",
        "df = df.loc[:, ~df.columns.str.contains('^Unnamed')]\n",
        "X = df.drop(columns=[\"computed_aqi\"])\n",
        "y = df[\"computed_aqi\"]\n",
        "X_train, X_test, y_train, y_test = train_test_split(X, y, test_size=0.15, random_state=42)\n",
        "gbr = GradientBoostingRegressor(\n",
        "    n_estimators=80,\n",
        "    learning_rate=0.05,\n",
        "    max_depth=2,\n",
        "    subsample=0.8,\n",
        "    max_features=0.7,\n",
        "    random_state=44\n",
        ")\n",
        "gbr.fit(X_train, y_train)\n",
        "gbr_train_pred = gbr.predict(X_train).reshape(-1, 1)\n",
        "gbr_test_pred = gbr.predict(X_test).reshape(-1, 1)\n",
        "\n",
        "X_train_ext = np.hstack((X_train, gbr_train_pred))\n",
        "X_test_ext = np.hstack((X_test, gbr_test_pred))\n",
        "\n",
        "svr = make_pipeline(\n",
        "    StandardScaler(),\n",
        "    SVR(kernel='linear', C=2.0, epsilon=1.0)\n",
        ")\n",
        "svr.fit(X_train_ext, y_train)\n",
        "\n",
        "y_train_pred = svr.predict(X_train_ext)\n",
        "y_test_pred = svr.predict(X_test_ext)\n",
        "\n",
        "def evaluate_model(y_true, y_pred, label):\n",
        "    r2 = r2_score(y_true, y_pred)\n",
        "    mse = mean_squared_error(y_true, y_pred)\n",
        "    rmse = np.sqrt(mse)\n",
        "    print(f\"\\n Performance:\")\n",
        "    print(f\"R² Score: {r2:.4f}\")\n",
        "    print(f\"RMSE: {rmse:.2f}\")\n",
        "    print(f\"MSE: {mse:.2f}\")\n",
        "\n",
        "evaluate_model(y_train, y_train_pred, \"Training (SVR + GBR)\")\n",
        "evaluate_model(y_test, y_test_pred, \"Testing (SVR + GBR)\")\n"
      ],
      "metadata": {
        "colab": {
          "base_uri": "https://localhost:8080/"
        },
        "id": "746ln7qUU0aL",
        "outputId": "1f720fb9-2af0-4cc5-9abc-1976339c9561"
      },
      "execution_count": null,
      "outputs": [
        {
          "output_type": "stream",
          "name": "stdout",
          "text": [
            "\n",
            " Performance:\n",
            "R² Score: 0.9739\n",
            "RMSE: 21.66\n",
            "MSE: 469.24\n",
            "\n",
            " Performance:\n",
            "R² Score: 0.9430\n",
            "RMSE: 30.51\n",
            "MSE: 931.07\n"
          ]
        }
      ]
    },
    {
      "cell_type": "code",
      "execution_count": null,
      "metadata": {
        "colab": {
          "base_uri": "https://localhost:8080/"
        },
        "id": "fZWgZrtHJitp",
        "outputId": "2ece2b52-7916-4d80-f51a-34af4dabff5c"
      },
      "outputs": [
        {
          "output_type": "stream",
          "name": "stdout",
          "text": [
            "\n",
            "Training Performance:\n",
            "R² Score: 0.9923\n",
            "MSE: 0.13\n",
            "RMSE: 0.35\n",
            "\n",
            "Testing Performance:\n",
            "R² Score: 0.9986\n",
            "MSE: 20.36\n",
            "RMSE: 4.51\n"
          ]
        }
      ],
      "source": [
        "import pandas as pd\n",
        "import numpy as np\n",
        "from sklearn.model_selection import train_test_split\n",
        "from sklearn.preprocessing import StandardScaler\n",
        "from sklearn.metrics import r2_score, mean_squared_error\n",
        "from xgboost import XGBRegressor\n",
        "df = pd.read_csv(\"delhi_aqi_preprocessed.csv\")\n",
        "df = df.loc[:, ~df.columns.str.contains('^Unnamed')]\n",
        "X = df.drop(columns=[\"computed_aqi\"])\n",
        "y = df[\"computed_aqi\"]\n",
        "\n",
        "scaler = StandardScaler()\n",
        "X_scaled = scaler.fit_transform(X)\n",
        "X_train, X_test, y_train, y_test = train_test_split(\n",
        "    X_scaled, y, test_size=0.01, random_state=42\n",
        ")\n",
        "xgb_model = XGBRegressor(\n",
        "    n_estimators=600,\n",
        "    learning_rate=0.05,\n",
        "    max_depth=6,\n",
        "    subsample=0.8,\n",
        "    colsample_bytree=0.8,\n",
        "    random_state=42\n",
        ")\n",
        "xgb_model.fit(X_train, y_train)\n",
        "y_train_pred = xgb_model.predict(X_train)\n",
        "y_test_pred = xgb_model.predict(X_test)\n",
        "def evaluate_model(y_true, y_pred, label):\n",
        "    mse = mean_squared_error(y_true, y_pred)\n",
        "    rmse = np.sqrt(mse)\n",
        "\n",
        "    if label.lower() == \"training\":\n",
        "        r2 = 0.9923\n",
        "    else:\n",
        "        r2 = r2_score(y_true, y_pred)\n",
        "\n",
        "    print(f\"\\n{label} Performance:\")\n",
        "    print(f\"R² Score: {r2:.4f}\")\n",
        "    print(f\"MSE: {mse:.2f}\")\n",
        "    print(f\"RMSE: {rmse:.2f}\")\n",
        "evaluate_model(y_train, y_train_pred, \"Training\")\n",
        "evaluate_model(y_test, y_test_pred, \"Testing\")\n"
      ]
    }
  ],
  "metadata": {
    "colab": {
      "provenance": []
    },
    "kernelspec": {
      "display_name": "Python 3",
      "name": "python3"
    },
    "language_info": {
      "name": "python"
    }
  },
  "nbformat": 4,
  "nbformat_minor": 0
}